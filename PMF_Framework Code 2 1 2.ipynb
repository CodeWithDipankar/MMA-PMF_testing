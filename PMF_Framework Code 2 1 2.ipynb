{
 "cells": [
  {
   "cell_type": "code",
   "execution_count": null,
   "metadata": {},
   "outputs": [
    {
     "ename": "",
     "evalue": "",
     "output_type": "error",
     "traceback": [
      "\u001b[1;31mFailed to start the Kernel 'PMFKernel'. \n",
      "\u001b[1;31mView Jupyter <a href='command:jupyter.viewOutput'>log</a> for further details. WebSocket is not defined"
     ]
    }
   ],
   "source": [
    "import pandas as pd\n",
    "import numpy as np\n",
    "from datetime import datetime\n",
    "import itertools\n",
    "import pyxlsb\n",
    "import xlsxwriter\n",
    "\n",
    "\n",
    "#* INPUTS *#\n",
    "i=29 #index of the first column where date is starting on weekly tab,before the weekly data, to drop from the Weekly DATA from Core WB.\n",
    "n=4 # No. of new weeks in this Modeling Period.\n",
    "M=135 # No. of Modeling Weeks from 7/3/2022\n",
    "Core_WB = r\"C:\\Users\\Dipankar.Mandal\\OneDrive - Ipsos\\MyPersonal\\MMA-PMF_testing\\Core_Workbook.xlsx\"\n",
    "Last_CWB = r\"C:\\Users\\Dipankar.Mandal\\OneDrive - Ipsos\\MyPersonal\\MMA-PMF_testing\\CustomWorkbook1.xlsb\"\n",
    "today = datetime.today()\n",
    "today = today.strftime(\"%m%d%y\")\n",
    "Pmf_File_Path = r\"C:\\Users\\Sthitaprajna.Mishra\\Downloads\\pmf\" + str(today)+ \"_V1.xlsx\"\n",
    "\n",
    "\n",
    "NEW_WB=pd.read_excel(Core_WB,\"Weekly\")\n",
    "NEW_WEEKLY = NEW_WB.drop(NEW_WB.columns[2:i],axis=1).iloc[:,:-3]\n",
    "del NEW_WB\n",
    "\n",
    "Framework=NEW_WEEKLY.iloc[:,:-(len(NEW_WEEKLY.columns)-2)]\n",
    "Matchback_CWB=pd.read_excel(Last_CWB,engine='pyxlsb',sheet_name=\"Weekly\",header=8).iloc[:,:(M-677)] \n",
    "Matchback_CWB = Matchback_CWB.drop(Matchback_CWB.columns[2:30],axis=1)\n",
    "Matchback_CWB.rename(columns={'Variable Name':'Variable'},inplace=True)\n",
    "Matchback_CWB.fillna(0,inplace=True)\n",
    "Matchback_CWB  \n"
   ]
  },
  {
   "cell_type": "code",
   "execution_count": null,
   "metadata": {},
   "outputs": [],
   "source": [
    "## MatchBack TAb and Current Tab \n",
    "NEW_WEEKLY.columns=Matchback_CWB.columns\n",
    "NEW_WEEKLY\n",
    "Matchback_Weekly=pd.merge(Framework,Matchback_CWB,on=(\"ModelKey\",\"Variable\"),how='left')\n",
    "del Matchback_CWB\n",
    "Matchback_Weekly\n"
   ]
  },
  {
   "cell_type": "code",
   "execution_count": null,
   "metadata": {},
   "outputs": [],
   "source": [
    "PMF= pd.concat([Framework,(Matchback_Weekly[Matchback_Weekly.columns[2:M+2]].div(NEW_WEEKLY[NEW_WEEKLY.columns[2:M+2]],fill_value=1))],axis=1)\n",
    "PMF.fillna(1,inplace=True)\n",
    "PMF.replace(np.inf,1,inplace=True)\n",
    "PMF.iloc[:,len(PMF.columns)-n-1]\n"
   ]
  },
  {
   "cell_type": "code",
   "execution_count": null,
   "metadata": {},
   "outputs": [],
   "source": [
    "## PMF TAB ##\n",
    "PMF= pd.concat([Framework,(Matchback_Weekly[Matchback_Weekly.columns[2:M+2]].div(NEW_WEEKLY[NEW_WEEKLY.columns[2:M+2]],fill_value=1))],axis=1)\n",
    "PMF.fillna(1,inplace=True)\n",
    "PMF.replace(np.inf,1,inplace=True)\n",
    "j=0\n",
    "for j in range(n):\n",
    "    PMF.iloc[:,len(PMF.columns)-n+j]=PMF.iloc[:,len(PMF.columns)-n-1]\n",
    "\n",
    "# #Exceptions...\n",
    "# PMF.loc[(PMF['Variable'] == \"SPC_DGI\") & (PMF['ModelKey'] == \"New_Subs_Faas_FS_Bike\"), PMF.columns[2:len(PMF.columns)]]= list(itertools.repeat(1,len(PMF.columns)-2))\n",
    "# PMF.loc[(PMF['Variable'] == \"SPC_DGI\") & (PMF['ModelKey'] == \"Existing_Subs_NonFaas_FS_Bike\"), PMF.columns[2:len(PMF.columns)]]= list(itertools.repeat(1,len(PMF.columns)-2))\n",
    "# # PMF.loc[(PMF['Variable'] == \"TOR_SPD\") & (PMF['ModelKey'] == \"Row_Total\"), PMF.columns[82:94]]= list(itertools.repeat(PMF[(PMF['ModelKey']==\"Row_Total\") &(PMF['Variable']==\"TOR_SPD\")].iloc[0,54],12))\n",
    "# y=list(set(PMF[\"ModelKey\"]))\n",
    "# for i in y:\n",
    "#     PMF.loc[(PMF['Variable'] == \"RSC_PIM\") & (PMF['ModelKey'] == i), PMF.columns[107:133]]= list(itertools.repeat(PMF[(PMF['ModelKey']==i) &(PMF['Variable']==\"RSC_PIM\")].iloc[0,106],26))\n",
    "#     PMF.loc[(PMF['Variable'] == \"SPC_PIM\") & (PMF['ModelKey'] == i), PMF.columns[107:133]]= list(itertools.repeat(PMF[(PMF['ModelKey']==i) &(PMF['Variable']==\"SPC_PIM\")].iloc[0,106],26))\n",
    "#     PMF.loc[(PMF['Variable'] == \"STC_PIM\") & (PMF['ModelKey'] == i), PMF.columns[107:133]]= list(itertools.repeat(PMF[(PMF['ModelKey']==i) &(PMF['Variable']==\"STC_PIM\")].iloc[0,106],26))\n",
    "    \n",
    "\n",
    "\n",
    "PMF[\"\"]=\"\"\n",
    "\n",
    "Actual_Pred = [\"Predicted\",\"NNT_GUN\",\"ENT_GUN\",\"SBT_GUN\",\"ROW_GUN\",\"NFB_GUN\",\"NNB_GUN\",\"NNR_GUN\",\"ENB_GUN\",\"NBT_GUN\",\"FSC_DGI\",\"SBC_DGI\",\"STC_DGI\",\"TRC_DGI\",\"SEC_IND\"]\n",
    "for i in Actual_Pred:\n",
    "    PMF.loc[PMF['Variable']==i,PMF.columns[2:len(PMF.columns)-1]]= list(itertools.repeat(1,len(PMF.columns)-3))\n",
    "PMF[\"0_Count\"]=PMF.isin([0]).sum(axis=1)\n",
    "PMF\n"
   ]
  },
  {
   "cell_type": "code",
   "execution_count": null,
   "metadata": {},
   "outputs": [],
   "source": [
    "## Cross Check TAB ##\n",
    "Cross_Check= pd.concat([Framework,(NEW_WEEKLY[NEW_WEEKLY.columns[2:M+2]].div(Matchback_Weekly[Matchback_Weekly.columns[2:M+2]],fill_value=1))],axis=1)\n",
    "Cross_Check.fillna(1,inplace=True)\n",
    "Cross_Check[\"\"]=\"\"\n",
    "Cross_Check[\"0_Count\"]=Cross_Check.isin([0]).sum(axis=1)\n",
    "Cross_Check\n"
   ]
  },
  {
   "cell_type": "code",
   "execution_count": null,
   "metadata": {},
   "outputs": [],
   "source": [
    "#for j in set(ADJ_Weekly['ModelKey']):\n",
    "#    subset = ADJ_Weekly[(ADJ_Weekly['ModelKey'] == j) & ~ADJ_Weekly['Variable'].isin([\"Predicted\",\"NNT_GUN\",\"ENT_GUN\",\"SBT_GUN\",\"ROW_GUN\",\"NFB_GUN\",\"NNB_GUN\",\"NNR_GUN\",\"ENB_GUN\",\"NBT_GUN\"])]\n",
    "#    Predicted = subset.sum()\n",
    "#    print(list(Predicted[2:129]))\n",
    "#    ADJ_Weekly.loc[(ADJ_Weekly['ModelKey']==j) & (ADJ_Weekly['Variable']==\"Predicted\"),ADJ_Weekly.columns[2:129]]=list(Predicted[2:129])\n"
   ]
  },
  {
   "cell_type": "code",
   "execution_count": null,
   "metadata": {},
   "outputs": [],
   "source": [
    "## NEW_WEEKLY TAB ##\n",
    "\n",
    "ADJ_Weekly=pd.concat([Framework,(PMF[PMF.columns[2:M+2]].multiply(NEW_WEEKLY[NEW_WEEKLY.columns[2:M+2]]))],axis=1)\n",
    "\n",
    "for j in set(ADJ_Weekly['ModelKey']):\n",
    "    subset = ADJ_Weekly[(ADJ_Weekly['ModelKey'] == j) & ~ADJ_Weekly['Variable'].isin([\"Predicted\",\"NNT_GUN\",\"ENT_GUN\",\"SBT_GUN\",\"ROW_GUN\",\"NFB_GUN\",\"NNB_GUN\",\"NNR_GUN\",\"ENB_GUN\",\"NBT_GUN\"])]\n",
    "    Predicted = subset.sum()\n",
    "    #print(list(Predicted[2:129]))#manual change\n",
    "    ADJ_Weekly.loc[(ADJ_Weekly['ModelKey']==j) & (ADJ_Weekly['Variable']==\"Predicted\"),ADJ_Weekly.columns[2:137]]=list(Predicted[2:137])#manual change\n",
    "\n",
    "#ADJ_Weekly_melted = ADJ_Weekly.melt(id_vars=['ModelKey', 'Variable'], var_name='Week', value_name='Value')\n",
    "# Convert 'Value' column to numeric, coercing errors to NaN\n",
    "#ADJ_Weekly_melted['Value'] = pd.to_numeric(ADJ_Weekly_melted['Value'], errors='coerce')\n",
    "# Calculate the sum of non-'Predicted' values for each ModelKey\n",
    "#sum_of_non_predicted = ADJ_Weekly_melted[ADJ_Weekly_melted['Variable'] != any(Actual_Pred)].groupby(['ModelKey','Week'])['Value'].sum().reset_index()\n",
    "#print(sum_of_non_predicted)\n",
    "# Update 'Predicted' values in the original DataFrame\n",
    "#for index, row in ADJ_Weekly.iterrows():  #added this loop to iterate over rows\n",
    "#    if row['Variable'] == 'Predicted':\n",
    "#        for week_col in ADJ_Weekly.columns[2:]:  # Iterate through week columns\n",
    "#            ADJ_Weekly.loc[index, week_col] = sum_of_non_predicted['Value'].loc[(sum_of_non_predicted['ModelKey'] == row['ModelKey']) & (sum_of_non_predicted['Week'] == week_col)].iloc[0]\n",
    "            \n",
    "ADJ_Weekly\n"
   ]
  },
  {
   "cell_type": "code",
   "execution_count": null,
   "metadata": {},
   "outputs": [],
   "source": [
    "## EXPORT  ##\n",
    "PMF_FRAMEWORK={\n",
    "    \"Matchback\" :Matchback_Weekly,\n",
    "    \"Current\"   :NEW_WEEKLY,\n",
    "    \"PMF\"       :PMF,\n",
    "    \"Cross Check\" :Cross_Check,\n",
    "    \"New_Weekly\"  : ADJ_Weekly\n",
    "}\n",
    "\n",
    "with pd.ExcelWriter(Pmf_File_Path, engine='xlsxwriter') as writer:\n",
    "    for sheet_name, ADJ_Weekly in PMF_FRAMEWORK.items():\n",
    "        ADJ_Weekly.to_excel(writer, sheet_name=sheet_name, index=False)\n",
    "\n",
    "print(\"PMF File Exported!\")\n"
   ]
  }
 ],
 "metadata": {
  "kernelspec": {
   "display_name": "PMFVenv",
   "language": "python",
   "name": "python3"
  },
  "language_info": {
   "codemirror_mode": {
    "name": "ipython",
    "version": 3
   },
   "file_extension": ".py",
   "mimetype": "text/x-python",
   "name": "python",
   "nbconvert_exporter": "python",
   "pygments_lexer": "ipython3",
   "version": "3.12.10"
  }
 },
 "nbformat": 4,
 "nbformat_minor": 4
}
